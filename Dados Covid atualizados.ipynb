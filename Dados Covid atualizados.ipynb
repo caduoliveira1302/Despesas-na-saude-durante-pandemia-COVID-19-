{
 "cells": [
  {
   "cell_type": "code",
   "execution_count": 23,
   "metadata": {},
   "outputs": [],
   "source": [
    "from selenium import webdriver\n",
    "from selenium.webdriver.common.keys import Keys\n",
    "from time import sleep\n",
    "import pandas as pd\n",
    "import re\n"
   ]
  },
  {
   "cell_type": "code",
   "execution_count": 4,
   "metadata": {},
   "outputs": [],
   "source": [
    "municipios=[]\n",
    "casos=[]\n",
    "população=[]\n",
    "óbitos=[]\n",
    "\n",
    "timer= 10\n",
    "driver = webdriver.Chrome()\n",
    "driver.get('https://qsprod.saude.gov.br/extensions/covid-19_html/covid-19_html.html')\n",
    "sleep(20)\n",
    "\n",
    "lista_municipios=['campinas','são paulo','ribeirão preto','são bernardo do campo','mauá','osasco','sorocaba','santo andré','guarulhos','são josé dos campos']\n",
    "for i in range(0,6):\n",
    "    municipios_ = driver.find_element_by_xpath('''//*[@id=\"QvFtMunicipio\"]/div/article/div[1]/div/div/qv-filterpane/div/div/div/div[2]/span''')\n",
    "    municipios_.click()\n",
    "    sleep(timer)\n",
    "    input_=driver.find_element_by_xpath('''/html/body/div[5]/div/div/div/ng-transclude/div/div[3]/div/article/div[1]/div/div/div/div[1]/div/input''')\n",
    "    input_.click()\n",
    "    sleep(timer)\n",
    "    input_.send_keys(lista_municipios[i])\n",
    "    sleep(timer)\n",
    "    escolher=driver.find_element_by_xpath('''/html/body/div[5]/div/div/div/ng-transclude/div/div[3]/div/article/div[1]/div/div/div/div[2]/div[1]/div/ul/li[1]/div[2]''')\n",
    "    escolher.click()\n",
    "    sleep(timer)\n",
    "    confirmar=driver.find_element_by_xpath('''/html/body/div[5]/div/div/div/ng-transclude/div/div[2]/div/ul/li[5]/button/span''')\n",
    "    confirmar.click()\n",
    "    sleep(timer)\n",
    "\n",
    "etapa=driver.find_element_by_xpath('''/html/body/div[1]/section/div/div/div[3]/div/div/div[1]/button[3]''')\n",
    "etapa.click()\n",
    "sleep(timer)\n",
    "\n",
    "for t in range(1,7):\n",
    "    xpath1=driver.find_element_by_xpath('''/html/body/div[1]/section/div/div/div[3]/div/div/div[4]/div/article/div[1]/div/div/div/div[2]/div[1]/div/table/tbody/tr[''' + str(t) + ''']/td[2]/div/div/span''')\n",
    "    xpath1_text = xpath1.text\n",
    "    xpath2=driver.find_element_by_xpath('''/html/body/div[1]/section/div/div/div[3]/div/div/div[4]/div/article/div[1]/div/div/div/div[2]/div[1]/div/table/tbody/tr[''' + str(t) + ''']/td[3]/div/div/span''')\n",
    "    xpath2_text= xpath2.text\n",
    "    xpath3=driver.find_element_by_xpath('''/html/body/div[1]/section/div/div/div[3]/div/div/div[4]/div/article/div[1]/div/div/div/div[2]/div[1]/div/table/tbody/tr[''' + str(t) + ''']/td[5]/div/div/span''')\n",
    "    xpath3_text= xpath3.text\n",
    "    xpath4=driver.find_element_by_xpath('''/html/body/div[1]/section/div/div/div[3]/div/div/div[4]/div/article/div[1]/div/div/div/div[2]/div[1]/div/table/tbody/tr[''' + str(t) + ''']/td[8]/div/div/span''')\n",
    "    xpath4_text= xpath4.text\n",
    "    municipios.append(xpath1_text) \n",
    "    população.append(xpath2_text)\n",
    "    casos.append(xpath3_text)\n",
    "    óbitos.append(xpath4_text)\n",
    "\n",
    "\n",
    "limpar=driver.find_element_by_xpath('''/html/body/div[1]/nav/div[4]/div[1]/div[1]/div/div/div[1]/button[3]/i''')\n",
    "limpar.click()\n",
    "\n",
    "sleep(timer)\n",
    "\n",
    "for i in range(6,10):\n",
    "    municipios_ = driver.find_element_by_xpath('''//*[@id=\"QvFtMunicipio\"]/div/article/div[1]/div/div/qv-filterpane/div/div/div/div[2]/span''')\n",
    "    municipios_.click()\n",
    "    sleep(timer)\n",
    "    input_=driver.find_element_by_xpath('''/html/body/div[5]/div/div/div/ng-transclude/div/div[3]/div/article/div[1]/div/div/div/div[1]/div/input''')\n",
    "    input_.click()\n",
    "    sleep(timer)\n",
    "    input_.send_keys(lista_municipios[i])\n",
    "    sleep(timer)\n",
    "    escolher=driver.find_element_by_xpath('''/html/body/div[5]/div/div/div/ng-transclude/div/div[3]/div/article/div[1]/div/div/div/div[2]/div[1]/div/ul/li[1]/div[2]''')\n",
    "    escolher.click()\n",
    "    sleep(timer)\n",
    "    confirmar=driver.find_element_by_xpath('''/html/body/div[5]/div/div/div/ng-transclude/div/div[2]/div/ul/li[5]/button''')\n",
    "    confirmar.click()\n",
    "    sleep(timer)\n",
    "    \n",
    "etapa=driver.find_element_by_xpath('''/html/body/div[1]/section/div/div/div[3]/div/div/div[1]/button[3]''')\n",
    "etapa.click()\n",
    "sleep(timer)\n",
    "\n",
    "for t in range(2,6):\n",
    "    xpath1=driver.find_element_by_xpath('''/html/body/div[1]/section/div/div/div[3]/div/div/div[4]/div/article/div[1]/div/div/div/div[2]/div[1]/div/table/tbody/tr[''' + str(t) + ''']/td[2]/div/div/span''')\n",
    "    xpath1_text = xpath1.text\n",
    "    xpath2=driver.find_element_by_xpath('''/html/body/div[1]/section/div/div/div[3]/div/div/div[4]/div/article/div[1]/div/div/div/div[2]/div[1]/div/table/tbody/tr[''' + str(t) + ''']/td[3]/div/div/span''')\n",
    "    xpath2_text= xpath2.text\n",
    "    xpath3=driver.find_element_by_xpath('''/html/body/div[1]/section/div/div/div[3]/div/div/div[4]/div/article/div[1]/div/div/div/div[2]/div[1]/div/table/tbody/tr[''' + str(t) + ''']/td[5]/div/div/span''')\n",
    "    xpath3_text= xpath3.text\n",
    "    xpath4=driver.find_element_by_xpath('''/html/body/div[1]/section/div/div/div[3]/div/div/div[4]/div/article/div[1]/div/div/div/div[2]/div[1]/div/table/tbody/tr[''' + str(t) + ''']/td[8]/div/div/span''')\n",
    "    xpath4_text= xpath4.text\n",
    "    municipios.append(xpath1_text) \n",
    "    população.append(xpath2_text)\n",
    "    casos.append(xpath3_text)\n",
    "    óbitos.append(xpath4_text)\n",
    "    \n",
    "driver.quit()"
   ]
  },
  {
   "cell_type": "markdown",
   "metadata": {},
   "source": [
    "/html/body/div[1]/section/div/div/div[3]/div/div/div[4]/div/article/div[1]/div/div/div/div[2]/div[1]/div/table/tbody/tr[2]/td[2]/div/div/span"
   ]
  },
  {
   "cell_type": "markdown",
   "metadata": {},
   "source": [
    "/html/body/div[1]/section/div/div/div[3]/div/div/div[4]/div/article/div[1]/div/div/div/div[2]/div[1]/div/table/tbody/tr[3]/td[2]/div/div/span"
   ]
  },
  {
   "cell_type": "markdown",
   "metadata": {},
   "source": [
    "/html/body/div[1]/section/div/div/div[3]/div/div/div[4]/div/article/div[1]/div/div/div/div[2]/div[1]/div/table/tbody/tr[2]/td[3]/div/div/span"
   ]
  },
  {
   "cell_type": "markdown",
   "metadata": {},
   "source": [
    "/html/body/div[1]/section/div/div/div[3]/div/div/div[4]/div/article/div[1]/div/div/div/div[2]/div[1]/div/table/tbody/tr[3]/td[3]/div/div/span"
   ]
  },
  {
   "cell_type": "code",
   "execution_count": 29,
   "metadata": {},
   "outputs": [
    {
     "data": {
      "text/plain": [
       "['Campinas',\n",
       " 'MauÃ¡',\n",
       " 'Osasco',\n",
       " 'RibeirÃ£o Preto',\n",
       " 'SÃ£o Bernardo do Campo',\n",
       " 'SÃ£o Paulo',\n",
       " 'Guarulhos',\n",
       " 'SÃ£o JosÃ© dos Campos',\n",
       " 'Santo AndrÃ©',\n",
       " 'Sorocaba']"
      ]
     },
     "execution_count": 29,
     "metadata": {},
     "output_type": "execute_result"
    }
   ],
   "source": [
    "municipios"
   ]
  },
  {
   "cell_type": "code",
   "execution_count": 30,
   "metadata": {},
   "outputs": [
    {
     "data": {
      "text/plain": [
       "['4.461',\n",
       " '1.514',\n",
       " '2.591',\n",
       " '2.922',\n",
       " '3.250',\n",
       " '37.845',\n",
       " '4.861',\n",
       " '1.919',\n",
       " '3.055',\n",
       " '2.815']"
      ]
     },
     "execution_count": 30,
     "metadata": {},
     "output_type": "execute_result"
    }
   ],
   "source": [
    "óbitos"
   ]
  },
  {
   "cell_type": "code",
   "execution_count": 31,
   "metadata": {},
   "outputs": [
    {
     "data": {
      "text/plain": [
       "['1.204.073',\n",
       " '472.912',\n",
       " '698.418',\n",
       " '703.293',\n",
       " '838.936',\n",
       " '12.252.023',\n",
       " '1.379.182',\n",
       " '721.944',\n",
       " '718.773',\n",
       " '679.378']"
      ]
     },
     "execution_count": 31,
     "metadata": {},
     "output_type": "execute_result"
    }
   ],
   "source": [
    "população"
   ]
  },
  {
   "cell_type": "code",
   "execution_count": 32,
   "metadata": {},
   "outputs": [
    {
     "data": {
      "text/plain": [
       "['112.624',\n",
       " '31.927',\n",
       " '45.247',\n",
       " '82.860',\n",
       " '75.682',\n",
       " '961.074',\n",
       " '63.371',\n",
       " '91.996',\n",
       " '65.241',\n",
       " '76.694']"
      ]
     },
     "execution_count": 32,
     "metadata": {},
     "output_type": "execute_result"
    }
   ],
   "source": [
    "casos"
   ]
  },
  {
   "cell_type": "code",
   "execution_count": 52,
   "metadata": {},
   "outputs": [
    {
     "data": {
      "text/html": [
       "<div>\n",
       "<style scoped>\n",
       "    .dataframe tbody tr th:only-of-type {\n",
       "        vertical-align: middle;\n",
       "    }\n",
       "\n",
       "    .dataframe tbody tr th {\n",
       "        vertical-align: top;\n",
       "    }\n",
       "\n",
       "    .dataframe thead th {\n",
       "        text-align: right;\n",
       "    }\n",
       "</style>\n",
       "<table border=\"1\" class=\"dataframe\">\n",
       "  <thead>\n",
       "    <tr style=\"text-align: right;\">\n",
       "      <th></th>\n",
       "      <th>Município</th>\n",
       "      <th>População</th>\n",
       "      <th>Casos de Covid</th>\n",
       "      <th>Óbitos</th>\n",
       "    </tr>\n",
       "  </thead>\n",
       "  <tbody>\n",
       "    <tr>\n",
       "      <th>0</th>\n",
       "      <td>Campinas</td>\n",
       "      <td>1.204.073</td>\n",
       "      <td>112.624</td>\n",
       "      <td>4.461</td>\n",
       "    </tr>\n",
       "    <tr>\n",
       "      <th>1</th>\n",
       "      <td>MauÃ¡</td>\n",
       "      <td>472.912</td>\n",
       "      <td>31.927</td>\n",
       "      <td>1.514</td>\n",
       "    </tr>\n",
       "    <tr>\n",
       "      <th>2</th>\n",
       "      <td>Osasco</td>\n",
       "      <td>698.418</td>\n",
       "      <td>45.247</td>\n",
       "      <td>2.591</td>\n",
       "    </tr>\n",
       "    <tr>\n",
       "      <th>3</th>\n",
       "      <td>RibeirÃ£o Preto</td>\n",
       "      <td>703.293</td>\n",
       "      <td>82.860</td>\n",
       "      <td>2.922</td>\n",
       "    </tr>\n",
       "    <tr>\n",
       "      <th>4</th>\n",
       "      <td>SÃ£o Bernardo do Campo</td>\n",
       "      <td>838.936</td>\n",
       "      <td>75.682</td>\n",
       "      <td>3.250</td>\n",
       "    </tr>\n",
       "    <tr>\n",
       "      <th>5</th>\n",
       "      <td>SÃ£o Paulo</td>\n",
       "      <td>12.252.023</td>\n",
       "      <td>961.074</td>\n",
       "      <td>37.845</td>\n",
       "    </tr>\n",
       "    <tr>\n",
       "      <th>6</th>\n",
       "      <td>Guarulhos</td>\n",
       "      <td>1.379.182</td>\n",
       "      <td>63.371</td>\n",
       "      <td>4.861</td>\n",
       "    </tr>\n",
       "    <tr>\n",
       "      <th>7</th>\n",
       "      <td>SÃ£o JosÃ© dos Campos</td>\n",
       "      <td>721.944</td>\n",
       "      <td>91.996</td>\n",
       "      <td>1.919</td>\n",
       "    </tr>\n",
       "    <tr>\n",
       "      <th>8</th>\n",
       "      <td>Santo AndrÃ©</td>\n",
       "      <td>718.773</td>\n",
       "      <td>65.241</td>\n",
       "      <td>3.055</td>\n",
       "    </tr>\n",
       "    <tr>\n",
       "      <th>9</th>\n",
       "      <td>Sorocaba</td>\n",
       "      <td>679.378</td>\n",
       "      <td>76.694</td>\n",
       "      <td>2.815</td>\n",
       "    </tr>\n",
       "  </tbody>\n",
       "</table>\n",
       "</div>"
      ],
      "text/plain": [
       "                Município   População Casos de Covid  Óbitos\n",
       "0                Campinas   1.204.073        112.624   4.461\n",
       "1                   MauÃ¡     472.912         31.927   1.514\n",
       "2                  Osasco     698.418         45.247   2.591\n",
       "3         RibeirÃ£o Preto     703.293         82.860   2.922\n",
       "4  SÃ£o Bernardo do Campo     838.936         75.682   3.250\n",
       "5              SÃ£o Paulo  12.252.023        961.074  37.845\n",
       "6               Guarulhos   1.379.182         63.371   4.861\n",
       "7   SÃ£o JosÃ© dos Campos     721.944         91.996   1.919\n",
       "8            Santo AndrÃ©     718.773         65.241   3.055\n",
       "9                Sorocaba     679.378         76.694   2.815"
      ]
     },
     "execution_count": 52,
     "metadata": {},
     "output_type": "execute_result"
    }
   ],
   "source": [
    "df_covid = pd.DataFrame({\n",
    "    \"Município\": municipios,\n",
    "    \"População\": população,\n",
    "    \"Casos de Covid\": casos,\n",
    "    \"Óbitos\":óbitos\n",
    "})\n",
    "df_covid"
   ]
  },
  {
   "cell_type": "code",
   "execution_count": 53,
   "metadata": {},
   "outputs": [],
   "source": [
    "def corrigir_nomes(nome):\n",
    "    nome = nome.replace('.', '')\n",
    "    nome = re.sub('Ã¡','á',nome)\n",
    "    nome = re.sub('Ã£','ã',nome)\n",
    "    nome = re.sub('Ã©','é',nome)\n",
    "    return nome"
   ]
  },
  {
   "cell_type": "code",
   "execution_count": 54,
   "metadata": {},
   "outputs": [],
   "source": [
    "df_covid['População'] = df_covid['População'].apply(corrigir_nomes)\n",
    "df_covid['Casos de Covid'] = df_covid['Casos de Covid'].apply(corrigir_nomes)\n",
    "df_covid['Óbitos'] = df_covid['Óbitos'].apply(corrigir_nomes)\n",
    "df_covid['Município'] = df_covid['Município'].apply(corrigir_nomes)\n"
   ]
  },
  {
   "cell_type": "code",
   "execution_count": 55,
   "metadata": {},
   "outputs": [],
   "source": [
    "df_covid= df_covid.astype({'População':int,'Casos de Covid':int,'Óbitos':int})"
   ]
  },
  {
   "cell_type": "code",
   "execution_count": 56,
   "metadata": {
    "scrolled": true
   },
   "outputs": [
    {
     "data": {
      "text/html": [
       "<div>\n",
       "<style scoped>\n",
       "    .dataframe tbody tr th:only-of-type {\n",
       "        vertical-align: middle;\n",
       "    }\n",
       "\n",
       "    .dataframe tbody tr th {\n",
       "        vertical-align: top;\n",
       "    }\n",
       "\n",
       "    .dataframe thead th {\n",
       "        text-align: right;\n",
       "    }\n",
       "</style>\n",
       "<table border=\"1\" class=\"dataframe\">\n",
       "  <thead>\n",
       "    <tr style=\"text-align: right;\">\n",
       "      <th></th>\n",
       "      <th>Município</th>\n",
       "      <th>População</th>\n",
       "      <th>Casos de Covid</th>\n",
       "      <th>Óbitos</th>\n",
       "      <th>letalidade (%)</th>\n",
       "      <th>Porcentagem dos Casos (%)</th>\n",
       "    </tr>\n",
       "  </thead>\n",
       "  <tbody>\n",
       "    <tr>\n",
       "      <th>0</th>\n",
       "      <td>Campinas</td>\n",
       "      <td>1204073</td>\n",
       "      <td>112624</td>\n",
       "      <td>4461</td>\n",
       "      <td>4.0</td>\n",
       "      <td>9.4</td>\n",
       "    </tr>\n",
       "    <tr>\n",
       "      <th>1</th>\n",
       "      <td>Mauá</td>\n",
       "      <td>472912</td>\n",
       "      <td>31927</td>\n",
       "      <td>1514</td>\n",
       "      <td>4.7</td>\n",
       "      <td>6.8</td>\n",
       "    </tr>\n",
       "    <tr>\n",
       "      <th>2</th>\n",
       "      <td>Osasco</td>\n",
       "      <td>698418</td>\n",
       "      <td>45247</td>\n",
       "      <td>2591</td>\n",
       "      <td>5.7</td>\n",
       "      <td>6.5</td>\n",
       "    </tr>\n",
       "    <tr>\n",
       "      <th>3</th>\n",
       "      <td>Ribeirão Preto</td>\n",
       "      <td>703293</td>\n",
       "      <td>82860</td>\n",
       "      <td>2922</td>\n",
       "      <td>3.5</td>\n",
       "      <td>11.8</td>\n",
       "    </tr>\n",
       "    <tr>\n",
       "      <th>4</th>\n",
       "      <td>São Bernardo do Campo</td>\n",
       "      <td>838936</td>\n",
       "      <td>75682</td>\n",
       "      <td>3250</td>\n",
       "      <td>4.3</td>\n",
       "      <td>9.0</td>\n",
       "    </tr>\n",
       "    <tr>\n",
       "      <th>5</th>\n",
       "      <td>São Paulo</td>\n",
       "      <td>12252023</td>\n",
       "      <td>961074</td>\n",
       "      <td>37845</td>\n",
       "      <td>3.9</td>\n",
       "      <td>7.8</td>\n",
       "    </tr>\n",
       "    <tr>\n",
       "      <th>6</th>\n",
       "      <td>Guarulhos</td>\n",
       "      <td>1379182</td>\n",
       "      <td>63371</td>\n",
       "      <td>4861</td>\n",
       "      <td>7.7</td>\n",
       "      <td>4.6</td>\n",
       "    </tr>\n",
       "    <tr>\n",
       "      <th>7</th>\n",
       "      <td>São José dos Campos</td>\n",
       "      <td>721944</td>\n",
       "      <td>91996</td>\n",
       "      <td>1919</td>\n",
       "      <td>2.1</td>\n",
       "      <td>12.7</td>\n",
       "    </tr>\n",
       "    <tr>\n",
       "      <th>8</th>\n",
       "      <td>Santo André</td>\n",
       "      <td>718773</td>\n",
       "      <td>65241</td>\n",
       "      <td>3055</td>\n",
       "      <td>4.7</td>\n",
       "      <td>9.1</td>\n",
       "    </tr>\n",
       "    <tr>\n",
       "      <th>9</th>\n",
       "      <td>Sorocaba</td>\n",
       "      <td>679378</td>\n",
       "      <td>76694</td>\n",
       "      <td>2815</td>\n",
       "      <td>3.7</td>\n",
       "      <td>11.3</td>\n",
       "    </tr>\n",
       "  </tbody>\n",
       "</table>\n",
       "</div>"
      ],
      "text/plain": [
       "               Município  População  Casos de Covid  Óbitos  letalidade (%)  \\\n",
       "0               Campinas    1204073          112624    4461             4.0   \n",
       "1                   Mauá     472912           31927    1514             4.7   \n",
       "2                 Osasco     698418           45247    2591             5.7   \n",
       "3         Ribeirão Preto     703293           82860    2922             3.5   \n",
       "4  São Bernardo do Campo     838936           75682    3250             4.3   \n",
       "5              São Paulo   12252023          961074   37845             3.9   \n",
       "6              Guarulhos    1379182           63371    4861             7.7   \n",
       "7    São José dos Campos     721944           91996    1919             2.1   \n",
       "8            Santo André     718773           65241    3055             4.7   \n",
       "9               Sorocaba     679378           76694    2815             3.7   \n",
       "\n",
       "   Porcentagem dos Casos (%)  \n",
       "0                        9.4  \n",
       "1                        6.8  \n",
       "2                        6.5  \n",
       "3                       11.8  \n",
       "4                        9.0  \n",
       "5                        7.8  \n",
       "6                        4.6  \n",
       "7                       12.7  \n",
       "8                        9.1  \n",
       "9                       11.3  "
      ]
     },
     "execution_count": 56,
     "metadata": {},
     "output_type": "execute_result"
    }
   ],
   "source": [
    "df_covid['letalidade (%)']= round(df_covid['Óbitos']*100 / df_covid['Casos de Covid'], 1)\n",
    "df_covid['Porcentagem dos Casos (%)']= round(df_covid['Casos de Covid']*100 / df_covid['População'],1)\n",
    "df_covid\n",
    "#Dados disponibilizados do Ministério da Saúde e pelo Estado de São Paulo\n"
   ]
  },
  {
   "cell_type": "code",
   "execution_count": null,
   "metadata": {},
   "outputs": [],
   "source": []
  }
 ],
 "metadata": {
  "kernelspec": {
   "display_name": "Python 3",
   "language": "python",
   "name": "python3"
  },
  "language_info": {
   "codemirror_mode": {
    "name": "ipython",
    "version": 3
   },
   "file_extension": ".py",
   "mimetype": "text/x-python",
   "name": "python",
   "nbconvert_exporter": "python",
   "pygments_lexer": "ipython3",
   "version": "3.8.5"
  }
 },
 "nbformat": 4,
 "nbformat_minor": 4
}
